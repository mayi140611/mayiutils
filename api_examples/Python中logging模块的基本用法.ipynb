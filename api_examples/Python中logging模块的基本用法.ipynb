{
 "cells": [
  {
   "cell_type": "markdown",
   "metadata": {},
   "source": [
    "### https://cuiqingcai.com/6080.html\n",
    "\n",
    "logging 模块相比 print 有这么几个优点：\n",
    "\n",
    "* 可以在 logging 模块中设置日志等级，在不同的版本（如开发环境、生产环境）上通过设置不同的输出等级来记录对应的日志，非常灵活。\n",
    "\n",
    "* print 的输出信息都会输出到标准输出流中，而 logging 模块就更加灵活，可以设置输出到任意位置，如写入文件、写入远程服务器等。\n",
    "\n",
    "* logging 模块具有灵活的配置和格式化功能，如配置输出当前模块信息、运行时间等，相比 print 的字符串格式化更加方便易用。\n",
    "\n",
    "下面我们初步来了解下 logging 模块的基本用法，先用一个实例来感受一下："
   ]
  },
  {
   "cell_type": "code",
   "execution_count": 1,
   "metadata": {},
   "outputs": [],
   "source": [
    "import logging"
   ]
  },
  {
   "cell_type": "markdown",
   "metadata": {},
   "source": [
    "在这里我们首先引入了 logging 模块，然后进行了一下基本的配置，这里通过 basicConfig 配置了 level 信息和 format 信息，这里 level 配置为 INFO 信息，即只输出 INFO 级别的信息，另外这里指定了 format 格式的字符串，包括 asctime、name、levelname、message 四个内容，分别代表运行时间、模块名称、日志级别、日志内容，这样输出内容便是这四者组合而成的内容了，这就是 logging 的全局配置。"
   ]
  },
  {
   "cell_type": "code",
   "execution_count": 4,
   "metadata": {},
   "outputs": [
    {
     "name": "stderr",
     "output_type": "stream",
     "text": [
      "2019-05-29 11:13:25,006 - __main__ - INFO - This is a log info\n",
      "2019-05-29 11:13:25,008 - __main__ - DEBUG - Debugging\n",
      "2019-05-29 11:13:25,009 - __main__ - WARNING - Warning exists\n",
      "2019-05-29 11:13:25,010 - __main__ - INFO - Finish\n"
     ]
    }
   ],
   "source": [
    "logging.basicConfig(level=logging.INFO, format='%(asctime)s - %(name)s - %(levelname)s - %(message)s')\n",
    "logger = logging.getLogger(__name__)\n",
    " \n",
    "logger.info('This is a log info')\n",
    "logger.debug('Debugging')\n",
    "logger.warning('Warning exists')\n",
    "logger.info('Finish')\n"
   ]
  },
  {
   "cell_type": "code",
   "execution_count": 5,
   "metadata": {},
   "outputs": [
    {
     "name": "stderr",
     "output_type": "stream",
     "text": [
      "2019-05-29 11:13:26,484 - __main__ - INFO - This is a log info\n",
      "2019-05-29 11:13:26,486 - __main__ - DEBUG - Debugging\n",
      "2019-05-29 11:13:26,488 - __main__ - WARNING - Warning exists\n",
      "2019-05-29 11:13:26,489 - __main__ - INFO - Finish\n"
     ]
    }
   ],
   "source": [
    "logging.basicConfig(level=logging.DEBUG, format='%(asctime)s - %(name)s - %(levelname)s - %(message)s')\n",
    "logger1 = logging.getLogger(__name__)\n",
    "\n",
    "logger1.info('This is a log info')\n",
    "logger1.debug('Debugging')\n",
    "logger1.warning('Warning exists')\n",
    "logger1.info('Finish')"
   ]
  },
  {
   "cell_type": "code",
   "execution_count": 1,
   "metadata": {},
   "outputs": [],
   "source": [
    "import logging\n",
    " \n",
    "logging.basicConfig(level=logging.DEBUG,\n",
    "                    filename='output.log',\n",
    "                    datefmt='%Y/%m/%d %H:%M:%S',\n",
    "                    format='%(asctime)s - %(name)s - %(levelname)s - %(lineno)d - %(module)s - %(message)s')\n",
    "logger = logging.getLogger(__name__)\n",
    " \n",
    "logger.info('This is a log info')\n",
    "logger.debug('Debugging')\n",
    "logger.warning('Warning exists')\n",
    "logger.info('Finish')"
   ]
  },
  {
   "cell_type": "code",
   "execution_count": null,
   "metadata": {},
   "outputs": [],
   "source": []
  }
 ],
 "metadata": {
  "kernelspec": {
   "display_name": "Python 3",
   "language": "python",
   "name": "python3"
  },
  "language_info": {
   "codemirror_mode": {
    "name": "ipython",
    "version": 3
   },
   "file_extension": ".py",
   "mimetype": "text/x-python",
   "name": "python",
   "nbconvert_exporter": "python",
   "pygments_lexer": "ipython3",
   "version": "3.7.3"
  }
 },
 "nbformat": 4,
 "nbformat_minor": 2
}
